{
 "cells": [
  {
   "cell_type": "markdown",
   "metadata": {},
   "source": [
    "- title: Inferring attribute preferences\n",
    "- date: 2018-07-11\n",
    "- category: python\n",
    "- tags: pymc3"
   ]
  },
  {
   "cell_type": "markdown",
   "metadata": {},
   "source": [
    "In this post, I demonstrate how one can use PyMC3 to infer a person's preferences for several attributes based\n",
    "on the choices they make between sets of items (for which we know the attribute values)."
   ]
  },
  {
   "cell_type": "code",
   "execution_count": 1,
   "metadata": {},
   "outputs": [],
   "source": [
    "%matplotlib inline\n",
    "import matplotlib.pyplot as plt\n",
    "import numpy as np\n",
    "\n",
    "import warnings\n",
    "warnings.simplefilter('ignore')  # Don't do this. This is bad.\n",
    "\n",
    "import pymc3 as pm\n",
    "import theano.tensor as tt\n",
    "\n",
    "# Not necessary, but it makes plots look nice\n",
    "import seaborn as sns\n",
    "sns.set_context('notebook', font_scale=1.3)\n",
    "sns.set_palette('tab10')"
   ]
  },
  {
   "cell_type": "markdown",
   "metadata": {},
   "source": [
    "## Generate a fake choice dataset\n",
    "\n",
    "Imagine we have data from one participant making 200 three-alternative choices.\n",
    "The items are all unique, but they share a set of four features given by $\\phi$. \n",
    "We assume that the participant makes choices by noisly maximizing utility given by $U$,\n",
    "and that the utility of each option is a weighted sum of those features. $\\alpha$ is an\n",
    "inverse-temperature parameter.\n",
    "\n",
    "$$\n",
    "U(c) = \\theta^\\top \\phi(c) \\\\\n",
    "\\Pr(c \\mid \\mathcal{C}) = \\frac {e^{\\alpha U(C)}} {\\sum_{c' \\in \\mathcal{C}} e^{\\alpha U(c')}}\\\\\n",
    "$$"
   ]
  },
  {
   "cell_type": "code",
   "execution_count": 2,
   "metadata": {},
   "outputs": [],
   "source": [
    "# Stimuli\n",
    "N_FEATURE = 4\n",
    "N_TRIAL = 200\n",
    "N_CHOICE = 3\n",
    "choice_sets = np.random.rand(N_TRIAL, N_CHOICE, N_FEATURE)\n",
    "\n",
    "# Unknown human parameters\n",
    "CHOICE_TEMP = 1\n",
    "PREFERENCE = [1, 2, -1, 0]\n",
    "\n",
    "def softmax(x, temp=1, np=np):\n",
    "    ex = np.exp((x - x.max(-1, keepdims=True)) / temp)\n",
    "    return ex / ex.sum(-1, keepdims=True)\n",
    "\n",
    "def fake_data(preference, choice_temp):\n",
    "    utility = np.dot(choice_sets, preference)\n",
    "    p_choice = softmax(utility, temp=choice_temp)\n",
    "    choices = pm.Categorical.dist(p_choice).random()\n",
    "    return choices\n",
    "\n",
    "choices = fake_data(PREFERENCE, CHOICE_TEMP)"
   ]
  },
  {
   "cell_type": "markdown",
   "metadata": {},
   "source": [
    "## Inference\n",
    "\n",
    "The model code looks remarkably similar to the code we used to actually generate the data, but\n",
    "instead of specifying the preferences, we create a random variable that we will infer a posterior\n",
    "distribution over."
   ]
  },
  {
   "cell_type": "code",
   "execution_count": 3,
   "metadata": {},
   "outputs": [
    {
     "name": "stderr",
     "output_type": "stream",
     "text": [
      "Auto-assigning NUTS sampler...\n",
      "Initializing NUTS using jitter+adapt_diag...\n",
      "Multiprocess sampling (2 chains in 2 jobs)\n",
      "NUTS: [preference]\n",
      "100%|██████████| 1000/1000 [00:02<00:00, 436.96it/s]\n"
     ]
    }
   ],
   "source": [
    "with pm.Model() as model:\n",
    "    preference = pm.Normal('preference', 0, 10, shape=4)  # somewhat weak prior\n",
    "\n",
    "    # In some cases it makes sense to infer the decision temperature. However,\n",
    "    # in this case, temperature effectively scales the preference, so you can't\n",
    "    # identify both. You can include both though—the model will just find the\n",
    "    # tradeoff that maximizes the prior probability.\n",
    "    # temp = pm.HalfCauchy('temp', 1)  # weak prior\n",
    "    temp = 1\n",
    "    \n",
    "    utility = tt.dot(choice_sets, preference)\n",
    "    p_choice = softmax(utility, np=tt)  # use theano instead of numpy for efficiency\n",
    "    pm.Categorical('choices', p_choice, observed=choices)\n",
    "    trace = pm.sample()  # Run MCMC to generate samples from the posterior"
   ]
  },
  {
   "cell_type": "markdown",
   "metadata": {},
   "source": [
    "## Results\n",
    "\n",
    "We are able to recover the parameters with reasonable accuracy. Note that there are two\n",
    "estimates for each parameter. Each is from a separate MCMC chain. If the two chains make\n",
    "very different predictions, try increasing the number of samples, or use more than two chains\n",
    "e.g. `pm.sample(njobs=30)` to wash out the bias in each individual chain. If you go this route, you might\n",
    "want to run it on a computer with many CPUs so that the chains can run in parallel."
   ]
  },
  {
   "cell_type": "code",
   "execution_count": 4,
   "metadata": {},
   "outputs": [
    {
     "data": {
      "image/png": "[encoded data removed]",
      "text/plain": [
       "<matplotlib.figure.Figure at 0x10409e5f8>"
      ]
     },
     "metadata": {},
     "output_type": "display_data"
    }
   ],
   "source": [
    "pm.forestplot(trace, varnames=['preference'])\n",
    "# Plot the true values with red Xs\n",
    "plt.sca(plt.gcf().get_axes()[1])\n",
    "plt.plot(PREFERENCE, -np.arange(N_FEATURE), 'X', c='red');"
   ]
  }
 ],
 "metadata": {
  "anaconda-cloud": {},
  "kernelspec": {
   "display_name": "Python 3",
   "language": "python",
   "name": "python3"
  },
  "language_info": {
   "codemirror_mode": {
    "name": "ipython",
    "version": 3
   },
   "file_extension": ".py",
   "mimetype": "text/x-python",
   "name": "python",
   "nbconvert_exporter": "python",
   "pygments_lexer": "ipython3",
   "version": "3.6.3"
  },
  "nav_menu": {},
  "toc": {
   "navigate_menu": true,
   "number_sections": true,
   "sideBar": true,
   "threshold": 6,
   "toc_cell": false,
   "toc_section_display": "block",
   "toc_window_display": false
  }
 },
 "nbformat": 4,
 "nbformat_minor": 1
}
